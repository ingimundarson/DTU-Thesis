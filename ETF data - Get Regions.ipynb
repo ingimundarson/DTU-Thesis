{
 "cells": [
  {
   "cell_type": "code",
   "execution_count": 52,
   "id": "162512ca-3ac9-4278-a658-11b9d699397c",
   "metadata": {
    "execution": {
     "iopub.execute_input": "2022-11-24T15:28:35.667518Z",
     "iopub.status.busy": "2022-11-24T15:28:35.666351Z",
     "iopub.status.idle": "2022-11-24T15:28:35.686731Z",
     "shell.execute_reply": "2022-11-24T15:28:35.685750Z",
     "shell.execute_reply.started": "2022-11-24T15:28:35.667443Z"
    },
    "tags": []
   },
   "outputs": [],
   "source": [
    "# Import libraries\n",
    "import requests\n",
    "from bs4 import BeautifulSoup\n",
    "\n",
    "import pandas as pd\n",
    "import numpy as np\n",
    "\n",
    "from tqdm import tqdm\n",
    "import glob\n",
    "import time\n",
    "import json\n",
    "import os\n",
    "\n",
    "from bs4 import BeautifulSoup\n",
    "from selenium import webdriver\n",
    "from selenium.webdriver.chrome.service import Service\n",
    "from webdriver_manager.chrome import ChromeDriverManager\n",
    "\n",
    "from selenium.webdriver import ActionChains\n",
    "from selenium.webdriver.common.by import By\n",
    "from selenium.webdriver.support.ui import WebDriverWait\n",
    "from selenium.webdriver.support import expected_conditions as EC"
   ]
  },
  {
   "cell_type": "code",
   "execution_count": 3,
   "id": "463656de-b115-4de3-9f29-fac3bdad0ea2",
   "metadata": {
    "execution": {
     "iopub.execute_input": "2022-11-24T14:32:32.227036Z",
     "iopub.status.busy": "2022-11-24T14:32:32.226493Z",
     "iopub.status.idle": "2022-11-24T14:32:32.236511Z",
     "shell.execute_reply": "2022-11-24T14:32:32.234880Z",
     "shell.execute_reply.started": "2022-11-24T14:32:32.227004Z"
    }
   },
   "outputs": [],
   "source": [
    "def getresponse(url):\n",
    "    headers = {\n",
    "        \"User-Agent\":\"Mozilla/5.0 (Macintosh; Intel Mac OS X 10_15_7) AppleWebKit/537.36 (KHTML, like Gecko) Chrome/106.0.0.0 Safari/537.36\",\n",
    "        \"Accept-Language\":\"en-US,en;q=0.9,is;q=0.8,da;q=0.7\",\n",
    "        \"Referer\":\"https://www.google.com/\",\n",
    "        \"DNT\":\"1\",\n",
    "    }\n",
    "    res = requests.get(url, headers=headers)\n",
    "    res.raise_for_status()\n",
    "    return res"
   ]
  },
  {
   "cell_type": "code",
   "execution_count": 4,
   "id": "b8a4033f-bdce-4ad0-b26a-cf0ee84cf3e1",
   "metadata": {
    "execution": {
     "iopub.execute_input": "2022-11-24T14:34:07.575701Z",
     "iopub.status.busy": "2022-11-24T14:34:07.574859Z",
     "iopub.status.idle": "2022-11-24T14:34:09.382413Z",
     "shell.execute_reply": "2022-11-24T14:34:09.381279Z",
     "shell.execute_reply.started": "2022-11-24T14:34:07.575664Z"
    }
   },
   "outputs": [],
   "source": [
    "# get field names\n",
    "url = \"https://etfdb.com/etfs/\"\n",
    "response = getresponse(url)\n",
    "soup = BeautifulSoup(response.text, 'lxml')\n",
    "\n",
    "# field_list = soup.find(\"ul\", attrs={\"class\":\"nav nav-pills\"})\n",
    "# fields = [li.text.replace(\"New\",\"\").strip().replace(\" \", \"-\").lower() for li in field_list.find_all(\"li\")]\n",
    "# fields "
   ]
  },
  {
   "cell_type": "code",
   "execution_count": 73,
   "id": "cab31f4b-8577-4a6a-84b5-61357ab5dde7",
   "metadata": {
    "execution": {
     "iopub.execute_input": "2022-11-24T15:46:37.582548Z",
     "iopub.status.busy": "2022-11-24T15:46:37.582036Z",
     "iopub.status.idle": "2022-11-24T15:46:37.765101Z",
     "shell.execute_reply": "2022-11-24T15:46:37.764071Z",
     "shell.execute_reply.started": "2022-11-24T15:46:37.582504Z"
    },
    "tags": []
   },
   "outputs": [
    {
     "data": {
      "text/html": [
       "<div>\n",
       "<style scoped>\n",
       "    .dataframe tbody tr th:only-of-type {\n",
       "        vertical-align: middle;\n",
       "    }\n",
       "\n",
       "    .dataframe tbody tr th {\n",
       "        vertical-align: top;\n",
       "    }\n",
       "\n",
       "    .dataframe thead th {\n",
       "        text-align: right;\n",
       "    }\n",
       "</style>\n",
       "<table border=\"1\" class=\"dataframe\">\n",
       "  <thead>\n",
       "    <tr style=\"text-align: right;\">\n",
       "      <th></th>\n",
       "      <th>region</th>\n",
       "      <th>count</th>\n",
       "      <th>region url</th>\n",
       "    </tr>\n",
       "  </thead>\n",
       "  <tbody>\n",
       "    <tr>\n",
       "      <th>0</th>\n",
       "      <td>Africa</td>\n",
       "      <td>5</td>\n",
       "      <td>africa</td>\n",
       "    </tr>\n",
       "    <tr>\n",
       "      <th>1</th>\n",
       "      <td>Broad Asia</td>\n",
       "      <td>40</td>\n",
       "      <td>broad-asia</td>\n",
       "    </tr>\n",
       "    <tr>\n",
       "      <th>2</th>\n",
       "      <td>Developed Asia Pacific</td>\n",
       "      <td>80</td>\n",
       "      <td>developed-asia-pacific</td>\n",
       "    </tr>\n",
       "    <tr>\n",
       "      <th>3</th>\n",
       "      <td>Developed Europe</td>\n",
       "      <td>68</td>\n",
       "      <td>developed-europe</td>\n",
       "    </tr>\n",
       "    <tr>\n",
       "      <th>4</th>\n",
       "      <td>Developed Markets</td>\n",
       "      <td>456</td>\n",
       "      <td>developed-markets</td>\n",
       "    </tr>\n",
       "    <tr>\n",
       "      <th>5</th>\n",
       "      <td>Emerging Asia Pacific</td>\n",
       "      <td>106</td>\n",
       "      <td>emerging-asia-pacific</td>\n",
       "    </tr>\n",
       "    <tr>\n",
       "      <th>6</th>\n",
       "      <td>Emerging Europe</td>\n",
       "      <td>5</td>\n",
       "      <td>emerging-europe</td>\n",
       "    </tr>\n",
       "    <tr>\n",
       "      <th>7</th>\n",
       "      <td>Emerging Markets</td>\n",
       "      <td>108</td>\n",
       "      <td>emerging-markets</td>\n",
       "    </tr>\n",
       "    <tr>\n",
       "      <th>8</th>\n",
       "      <td>Frontier Markets</td>\n",
       "      <td>1</td>\n",
       "      <td>frontier-markets</td>\n",
       "    </tr>\n",
       "    <tr>\n",
       "      <th>9</th>\n",
       "      <td>Global</td>\n",
       "      <td>337</td>\n",
       "      <td>global</td>\n",
       "    </tr>\n",
       "    <tr>\n",
       "      <th>10</th>\n",
       "      <td>Global ex-U.S.</td>\n",
       "      <td>75</td>\n",
       "      <td>global-ex-us</td>\n",
       "    </tr>\n",
       "    <tr>\n",
       "      <th>11</th>\n",
       "      <td>Latin America</td>\n",
       "      <td>23</td>\n",
       "      <td>latin-america</td>\n",
       "    </tr>\n",
       "    <tr>\n",
       "      <th>12</th>\n",
       "      <td>Middle East</td>\n",
       "      <td>9</td>\n",
       "      <td>middle-east</td>\n",
       "    </tr>\n",
       "    <tr>\n",
       "      <th>13</th>\n",
       "      <td>North America</td>\n",
       "      <td>1687</td>\n",
       "      <td>north-america</td>\n",
       "    </tr>\n",
       "  </tbody>\n",
       "</table>\n",
       "</div>"
      ],
      "text/plain": [
       "                    region  count              region url\n",
       "0                   Africa      5                  africa\n",
       "1               Broad Asia     40              broad-asia\n",
       "2   Developed Asia Pacific     80  developed-asia-pacific\n",
       "3         Developed Europe     68        developed-europe\n",
       "4        Developed Markets    456       developed-markets\n",
       "5    Emerging Asia Pacific    106   emerging-asia-pacific\n",
       "6          Emerging Europe      5         emerging-europe\n",
       "7         Emerging Markets    108        emerging-markets\n",
       "8         Frontier Markets      1        frontier-markets\n",
       "9                   Global    337                  global\n",
       "10          Global ex-U.S.     75            global-ex-us\n",
       "11           Latin America     23           latin-america\n",
       "12             Middle East      9             middle-east\n",
       "13           North America   1687           north-america"
      ]
     },
     "execution_count": 73,
     "metadata": {},
     "output_type": "execute_result"
    }
   ],
   "source": [
    "regiontable = soup.find(id = \"region-b1-table\")\n",
    "regions = pd.read_html(str(regiontable))[0].loc[:, [\"ETF THEME\",\"# OF ETFs\"]]\n",
    "regions.columns = [\"region\", \"count\"]\n",
    "\n",
    "regions[\"region url\"] = regions[\"region\"].apply(lambda x: x.lower().replace(\".\", \"\").replace(\" \", \"-\"))\n",
    "regions"
   ]
  },
  {
   "cell_type": "code",
   "execution_count": 114,
   "id": "157d50ce-71f3-4504-ace1-4599c0fa55e1",
   "metadata": {
    "execution": {
     "iopub.execute_input": "2022-11-24T15:57:49.582984Z",
     "iopub.status.busy": "2022-11-24T15:57:49.582017Z",
     "iopub.status.idle": "2022-11-24T15:57:49.600697Z",
     "shell.execute_reply": "2022-11-24T15:57:49.599606Z",
     "shell.execute_reply.started": "2022-11-24T15:57:49.582929Z"
    },
    "tags": []
   },
   "outputs": [],
   "source": [
    "\n",
    "\n",
    "def download_regions(regionsdf):\n",
    "    from Data.etfdbcredentials import username, password\n",
    "    # open browser\n",
    "    options = webdriver.ChromeOptions()\n",
    "    # options.add_argument('--headless')\n",
    "    service = Service(ChromeDriverManager().install())\n",
    "    browser = webdriver.Chrome(service=service, options=options)\n",
    "\n",
    "\n",
    "\n",
    "    url = \"https://etfdb.com/members/login/\"\n",
    "    browser.get(url)\n",
    "\n",
    "    # find and fill in username field\n",
    "    WebDriverWait(browser, 10).until(\n",
    "        EC.element_to_be_clickable((By.ID, 'user_login'))\n",
    "    ).send_keys(username)\n",
    "\n",
    "    # find and fill inn password field\n",
    "    WebDriverWait(browser, 10).until(\n",
    "        EC.element_to_be_clickable((By.ID, 'password'))\n",
    "    ).send_keys(password)\n",
    "\n",
    "    # find login button and click\n",
    "    WebDriverWait(browser, 10).until(\n",
    "        EC.element_to_be_clickable((By.ID, 'login-button'))\n",
    "    ).click()\n",
    "\n",
    "\n",
    "\n",
    "\n",
    "    # wait a bit\n",
    "    time.sleep(5)\n",
    "\n",
    "\n",
    "\n",
    "    error_regions = []\n",
    "    for region in tqdm(regionsdf[\"region url\"]):\n",
    "        region_pretty = list(regionsdf[regionsdf[\"region url\"] == region][\"region\"])[0]\n",
    "        \n",
    "        try:\n",
    "            url = f\"https://etfdb.com/etfs/region/{region}\"\n",
    "            browser.get(url)\n",
    "\n",
    "            # find download button and click\n",
    "            WebDriverWait(browser, 10).until(\n",
    "                EC.element_to_be_clickable((By.XPATH, '//*[@id=\"etfs\"]/tfoot/tr/td/a[2]'))\n",
    "            ).click()\n",
    "    \n",
    "            \n",
    "            # wait for file\n",
    "            filelist = [file.split(\"/\")[-1] for file in glob.glob(\"/Users/ThorvaldurIngi/Downloads/*.csv\")]\n",
    "            file_name = \"etfs_details_type_fund_flow.csv\"\n",
    "            start_time = time.time()\n",
    "            while not file_name in filelist:\n",
    "                time.sleep(1)\n",
    "                time_delta = time.time() - start_time\n",
    "                if time_delta > 15:\n",
    "                    error_regions.append(region_pretty)\n",
    "                    break\n",
    "                filelist = [file.split(\"/\")[-1] for file in glob.glob(\"/Users/ThorvaldurIngi/Downloads/*.csv\")]\n",
    "             \n",
    "            os.rename(\"/Users/ThorvaldurIngi/Downloads/\"+file_name, f\"/Users/ThorvaldurIngi/Downloads/{region_pretty}.csv\")\n",
    "\n",
    "        except:\n",
    "            error_regions.append(region_pretty)\n",
    "\n",
    "    browser.quit()\n",
    "    return error_regions"
   ]
  },
  {
   "cell_type": "code",
   "execution_count": 115,
   "id": "eb74aae4-0995-492c-8a4a-8c34a9883d5a",
   "metadata": {
    "execution": {
     "iopub.execute_input": "2022-11-24T15:57:53.084070Z",
     "iopub.status.busy": "2022-11-24T15:57:53.083422Z",
     "iopub.status.idle": "2022-11-24T15:59:15.242033Z",
     "shell.execute_reply": "2022-11-24T15:59:15.240222Z",
     "shell.execute_reply.started": "2022-11-24T15:57:53.084019Z"
    },
    "tags": []
   },
   "outputs": [
    {
     "name": "stderr",
     "output_type": "stream",
     "text": [
      "100%|███████████████████████████████████████████| 14/14 [01:04<00:00,  4.60s/it]\n"
     ]
    },
    {
     "data": {
      "text/plain": [
       "[]"
      ]
     },
     "execution_count": 115,
     "metadata": {},
     "output_type": "execute_result"
    }
   ],
   "source": [
    "download_regions(regions)"
   ]
  },
  {
   "cell_type": "code",
   "execution_count": 127,
   "id": "e9fb65dc-579f-496a-bb80-472ded475c43",
   "metadata": {
    "execution": {
     "iopub.execute_input": "2022-11-24T16:09:36.710154Z",
     "iopub.status.busy": "2022-11-24T16:09:36.709475Z",
     "iopub.status.idle": "2022-11-24T16:09:36.719822Z",
     "shell.execute_reply": "2022-11-24T16:09:36.718146Z",
     "shell.execute_reply.started": "2022-11-24T16:09:36.710102Z"
    },
    "tags": []
   },
   "outputs": [],
   "source": [
    "filelist = glob.glob(\"Data/Regions files/*.csv\")"
   ]
  },
  {
   "cell_type": "code",
   "execution_count": 128,
   "id": "366ce996-34d9-44f9-8d03-de3dc8b54bf8",
   "metadata": {
    "execution": {
     "iopub.execute_input": "2022-11-24T16:09:37.265320Z",
     "iopub.status.busy": "2022-11-24T16:09:37.264679Z",
     "iopub.status.idle": "2022-11-24T16:09:37.279428Z",
     "shell.execute_reply": "2022-11-24T16:09:37.273732Z",
     "shell.execute_reply.started": "2022-11-24T16:09:37.265270Z"
    },
    "tags": []
   },
   "outputs": [
    {
     "data": {
      "text/plain": [
       "['Data/Regions files/Latin America.csv',\n",
       " 'Data/Regions files/Developed Markets.csv',\n",
       " 'Data/Regions files/Frontier Markets.csv',\n",
       " 'Data/Regions files/Developed Europe.csv',\n",
       " 'Data/Regions files/Emerging Europe.csv',\n",
       " 'Data/Regions files/Developed Asia Pacific.csv',\n",
       " 'Data/Regions files/Middle East.csv',\n",
       " 'Data/Regions files/North America.csv',\n",
       " 'Data/Regions files/Emerging Markets.csv',\n",
       " 'Data/Regions files/Emerging Asia Pacific.csv',\n",
       " 'Data/Regions files/Africa.csv',\n",
       " 'Data/Regions files/Global.csv',\n",
       " 'Data/Regions files/Broad Asia.csv',\n",
       " 'Data/Regions files/Global ex-U.S..csv']"
      ]
     },
     "execution_count": 128,
     "metadata": {},
     "output_type": "execute_result"
    }
   ],
   "source": [
    "filelist"
   ]
  },
  {
   "cell_type": "code",
   "execution_count": 175,
   "id": "5cf20f81-824d-4e11-81d9-c2da182549b5",
   "metadata": {
    "execution": {
     "iopub.execute_input": "2022-11-25T11:14:36.421673Z",
     "iopub.status.busy": "2022-11-25T11:14:36.421172Z",
     "iopub.status.idle": "2022-11-25T11:14:36.648999Z",
     "shell.execute_reply": "2022-11-25T11:14:36.647745Z",
     "shell.execute_reply.started": "2022-11-25T11:14:36.421635Z"
    },
    "tags": []
   },
   "outputs": [],
   "source": [
    "regions_dict = {}\n",
    "for file in filelist:\n",
    "    region = file.split(\"/\")[-1].strip(\".csv\")\n",
    "    data = pd.read_csv(file)\n",
    "    symbols = list(data[\"Symbol\"])\n",
    "    \n",
    "    # regions_dict.update({region:symbols})\n",
    "    for sym in symbols:     \n",
    "        regions_dict.update({sym:{\"region\":region}})\n",
    "        "
   ]
  },
  {
   "cell_type": "code",
   "execution_count": 179,
   "id": "8fcdf307-a2e7-494a-ad9a-1df12f93a1d2",
   "metadata": {
    "execution": {
     "iopub.execute_input": "2022-11-25T11:16:33.806152Z",
     "iopub.status.busy": "2022-11-25T11:16:33.805487Z",
     "iopub.status.idle": "2022-11-25T11:16:33.827630Z",
     "shell.execute_reply": "2022-11-25T11:16:33.825990Z",
     "shell.execute_reply.started": "2022-11-25T11:16:33.806095Z"
    },
    "tags": []
   },
   "outputs": [],
   "source": [
    "with open(\"Data/ETFdata_etfdb_regions.json\", \"w\") as outfile:\n",
    "    # Write to json file\n",
    "    json.dump(regions_dict, outfile)"
   ]
  },
  {
   "cell_type": "code",
   "execution_count": null,
   "id": "21861331-1a7a-4d5f-afc6-50f003e88576",
   "metadata": {},
   "outputs": [],
   "source": []
  }
 ],
 "metadata": {
  "kernelspec": {
   "display_name": "Python 3 (ipykernel)",
   "language": "python",
   "name": "python3"
  },
  "language_info": {
   "codemirror_mode": {
    "name": "ipython",
    "version": 3
   },
   "file_extension": ".py",
   "mimetype": "text/x-python",
   "name": "python",
   "nbconvert_exporter": "python",
   "pygments_lexer": "ipython3",
   "version": "3.10.8"
  }
 },
 "nbformat": 4,
 "nbformat_minor": 5
}
