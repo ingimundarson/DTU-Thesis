{
 "cells": [
  {
   "cell_type": "code",
   "execution_count": 10,
   "id": "24031c59-aedb-4fc8-80ed-8c6f8641f8ba",
   "metadata": {
    "execution": {
     "iopub.execute_input": "2023-01-17T18:27:56.201602Z",
     "iopub.status.busy": "2023-01-17T18:27:56.200572Z",
     "iopub.status.idle": "2023-01-17T18:27:56.387877Z",
     "shell.execute_reply": "2023-01-17T18:27:56.385691Z",
     "shell.execute_reply.started": "2023-01-17T18:27:56.201542Z"
    },
    "tags": []
   },
   "outputs": [],
   "source": [
    "# Import libraries\n",
    "import pandas as pd\n",
    "import numpy as np\n",
    "\n",
    "from tqdm import tqdm\n",
    "import glob\n",
    "from tabulate import tabulate\n",
    "\n",
    "import time\n",
    "import json\n",
    "\n",
    "%run Code/plot_setup.py\n",
    "\n",
    "%reload_ext autoreload\n",
    "%autoreload 2\n"
   ]
  },
  {
   "cell_type": "code",
   "execution_count": 2,
   "id": "d8d8a9b8-919e-42a4-8e49-b772306ca823",
   "metadata": {
    "execution": {
     "iopub.execute_input": "2023-01-17T18:26:14.328965Z",
     "iopub.status.busy": "2023-01-17T18:26:14.322902Z",
     "iopub.status.idle": "2023-01-17T18:26:14.528080Z",
     "shell.execute_reply": "2023-01-17T18:26:14.514414Z",
     "shell.execute_reply.started": "2023-01-17T18:26:14.326092Z"
    },
    "tags": []
   },
   "outputs": [
    {
     "name": "stdout",
     "output_type": "stream",
     "text": [
      "<class 'pandas.core.frame.DataFrame'>\n",
      "RangeIndex: 2994 entries, 0 to 2993\n",
      "Data columns (total 5 columns):\n",
      " #   Column         Non-Null Count  Dtype  \n",
      "---  ------         --------------  -----  \n",
      " 0   Symbol         2994 non-null   object \n",
      " 1   ETF Name       2994 non-null   object \n",
      " 2   Asset Class    2994 non-null   object \n",
      " 3   Expense Ratio  2994 non-null   float64\n",
      " 4   region         2734 non-null   object \n",
      "dtypes: float64(1), object(4)\n",
      "memory usage: 117.1+ KB\n"
     ]
    }
   ],
   "source": [
    "etfdata = pd.read_csv(\"Data/ETFdata_etfdb_complete.csv\")\n",
    "\n",
    "cols_touse = [\n",
    "    'Symbol', \n",
    "    'ETF Name', \n",
    "    'Asset Class', \n",
    "    # 'Total Assets ($MM)',\n",
    "    # 'Avg. Daily Share Volume (3mo)',\n",
    "    'Expense Ratio', \n",
    "    # 'ESG Score',\n",
    "    # 'ESG Score Peer Percentile', \n",
    "    # 'ESG Score Global Percentile', \n",
    "    # 'P/E Ratio',\n",
    "    # 'Beta', \n",
    "    # 'Issuer', \n",
    "    # '# of Holdings', \n",
    "    # '% In Top 10', \n",
    "    # 'Liquidity',\n",
    "    # 'Expenses', \n",
    "    'region'\n",
    "]\n",
    "\n",
    "etfdata = etfdata.loc[:, cols_touse]\n",
    "\n",
    "\n",
    "\n",
    "# # only use Asset class: Equity\n",
    "# etfdata = etfdata.loc[etfdata[\"Asset Class\"] == \"Equity\"].reset_index(drop=True)\n",
    "\n",
    "\n",
    "etfdata.info()"
   ]
  },
  {
   "cell_type": "code",
   "execution_count": 3,
   "id": "0cb6d428-d48a-4196-b9c5-c30bc2475114",
   "metadata": {
    "execution": {
     "iopub.execute_input": "2023-01-17T18:26:20.400420Z",
     "iopub.status.busy": "2023-01-17T18:26:20.399636Z",
     "iopub.status.idle": "2023-01-17T18:26:20.486162Z",
     "shell.execute_reply": "2023-01-17T18:26:20.477507Z",
     "shell.execute_reply.started": "2023-01-17T18:26:20.400363Z"
    },
    "tags": []
   },
   "outputs": [
    {
     "name": "stdout",
     "output_type": "stream",
     "text": [
      "<class 'pandas.core.frame.DataFrame'>\n",
      "RangeIndex: 2994 entries, 0 to 2993\n",
      "Data columns (total 5 columns):\n",
      " #   Column         Non-Null Count  Dtype  \n",
      "---  ------         --------------  -----  \n",
      " 0   Symbol         2994 non-null   object \n",
      " 1   ETF Name       2994 non-null   object \n",
      " 2   Asset Class    2994 non-null   object \n",
      " 3   Expense Ratio  2994 non-null   float64\n",
      " 4   region         2994 non-null   object \n",
      "dtypes: float64(1), object(4)\n",
      "memory usage: 117.1+ KB\n"
     ]
    }
   ],
   "source": [
    "# fill in missing region\n",
    "etfdata[\"region\"] = etfdata.loc[:, \"region\"].fillna(\"Undefined\")\n",
    "\n",
    "etfdata.info()"
   ]
  },
  {
   "cell_type": "code",
   "execution_count": 11,
   "id": "54b2626d-dc00-438f-af48-b1e91417e1d6",
   "metadata": {
    "execution": {
     "iopub.execute_input": "2023-01-17T18:27:59.408081Z",
     "iopub.status.busy": "2023-01-17T18:27:59.403360Z",
     "iopub.status.idle": "2023-01-17T18:27:59.625987Z",
     "shell.execute_reply": "2023-01-17T18:27:59.617280Z",
     "shell.execute_reply.started": "2023-01-17T18:27:59.408035Z"
    },
    "tags": []
   },
   "outputs": [
    {
     "name": "stdout",
     "output_type": "stream",
     "text": [
      "\\begin{tabular}{lrr}\n",
      "\\hline\n",
      " region                &   Count &   Ratio (\\%) \\\\\n",
      "\\hline\n",
      " North America         & 1705.00 &       56.95 \\\\\n",
      " Global                &  376.00 &       12.56 \\\\\n",
      " Undefined             &  260.00 &        8.68 \\\\\n",
      " Developed Market      &  249.00 &        8.32 \\\\\n",
      " Emerging Asia Pacifi  &   87.00 &        2.91 \\\\\n",
      " Global ex-U.S         &   78.00 &        2.61 \\\\\n",
      " Emerging Market       &   73.00 &        2.44 \\\\\n",
      " Developed Asia Pacifi &   71.00 &        2.37 \\\\\n",
      " Developed Europe      &   39.00 &        1.30 \\\\\n",
      " Broad Asia            &   25.00 &        0.84 \\\\\n",
      " Latin America         &   15.00 &        0.50 \\\\\n",
      " Middle East           &    8.00 &        0.27 \\\\\n",
      " Africa                &    3.00 &        0.10 \\\\\n",
      " Emerging Europe       &    3.00 &        0.10 \\\\\n",
      " Frontier Market       &    2.00 &        0.07 \\\\\n",
      "\\hline\n",
      "\\end{tabular}\n",
      "\n",
      "\n",
      "\\begin{tabular}{lrr}\n",
      "\\hline\n",
      " Asset Class     &   Count &   Ratio (\\%) \\\\\n",
      "\\hline\n",
      " Equity          & 2101.00 &       70.17 \\\\\n",
      " Bond            &  509.00 &       17.00 \\\\\n",
      " Multi-Asset     &  144.00 &        4.81 \\\\\n",
      " Commodity       &  107.00 &        3.57 \\\\\n",
      " Real Estate     &   45.00 &        1.50 \\\\\n",
      " Alternatives    &   35.00 &        1.17 \\\\\n",
      " Currency        &   20.00 &        0.67 \\\\\n",
      " Volatility      &   17.00 &        0.57 \\\\\n",
      " Preferred Stock &   16.00 &        0.53 \\\\\n",
      "\\hline\n",
      "\\end{tabular}\n",
      "\n",
      "\n"
     ]
    }
   ],
   "source": [
    "# Region\n",
    "tab = etfdata.value_counts(\"region\")\n",
    "tab = pd.DataFrame(tab, columns=[\"Count\"])\n",
    "tab[\"Ratio (%)\"] = (tab[\"Count\"]/tab[\"Count\"].sum()) * 100\n",
    "\n",
    "print(tabulate(tab, headers = \"keys\", floatfmt=\"0.2f\", tablefmt = \"latex\"))\n",
    "print(\"\\n\")\n",
    "\n",
    "# Asset class\n",
    "tab = etfdata.value_counts(\"Asset Class\")\n",
    "tab = pd.DataFrame(tab, columns=[\"Count\"])\n",
    "tab[\"Ratio (%)\"] = (tab[\"Count\"]/tab[\"Count\"].sum()) * 100\n",
    "\n",
    "print(tabulate(tab, headers = \"keys\", floatfmt=\"0.2f\", intfmt=\"0.0f\", tablefmt = \"latex\"))\n",
    "print(\"\\n\")"
   ]
  },
  {
   "cell_type": "code",
   "execution_count": 4,
   "id": "7f6597ad-8b9e-4576-86e8-2315a71b9856",
   "metadata": {
    "execution": {
     "iopub.execute_input": "2023-01-17T18:26:24.957739Z",
     "iopub.status.busy": "2023-01-17T18:26:24.956694Z",
     "iopub.status.idle": "2023-01-17T18:26:26.185030Z",
     "shell.execute_reply": "2023-01-17T18:26:26.171901Z",
     "shell.execute_reply.started": "2023-01-17T18:26:24.957666Z"
    },
    "tags": []
   },
   "outputs": [
    {
     "data": {
      "image/png": "[encoded data removed]",
      "text/plain": [
       "<Figure size 1000x500 with 1 Axes>"
      ]
     },
     "metadata": {},
     "output_type": "display_data"
    }
   ],
   "source": [
    "sns.countplot(\n",
    "    y = \"region\",\n",
    "    data = etfdata,\n",
    "    order = etfdata[\"region\"].value_counts().index,\n",
    "    color=dtu_colors_hex[0]\n",
    ");\n",
    "plt.title(f\"ETF Regional Distribution\");\n",
    "plt.ylabel(\"Region\");\n",
    "plt.xlabel(\"Count\");"
   ]
  },
  {
   "cell_type": "code",
   "execution_count": 5,
   "id": "10a6a28f-c7cb-4b82-b554-fd2a6fba2136",
   "metadata": {
    "execution": {
     "iopub.execute_input": "2023-01-17T18:26:30.143189Z",
     "iopub.status.busy": "2023-01-17T18:26:30.142739Z",
     "iopub.status.idle": "2023-01-17T18:26:30.200586Z",
     "shell.execute_reply": "2023-01-17T18:26:30.197902Z",
     "shell.execute_reply.started": "2023-01-17T18:26:30.143156Z"
    },
    "tags": []
   },
   "outputs": [],
   "source": [
    "# n_top = 15\n",
    "# sns.countplot(\n",
    "#     y = \"Issuer\",\n",
    "#     data = etfdata,\n",
    "#     order = etfdata[\"Issuer\"].value_counts()[:n_top].index,\n",
    "#     color=dtu_colors_hex[0]\n",
    "# );\n",
    "# plt.title(f\"Top {n_top} Issuers\");\n",
    "# plt.ylabel(\"Issuer\");\n",
    "# plt.xlabel(\"Count\");"
   ]
  },
  {
   "cell_type": "code",
   "execution_count": 6,
   "id": "3b02d98f-6329-4751-845c-d1b5853dff24",
   "metadata": {
    "execution": {
     "iopub.execute_input": "2023-01-17T18:26:30.486244Z",
     "iopub.status.busy": "2023-01-17T18:26:30.485238Z",
     "iopub.status.idle": "2023-01-17T18:26:30.548335Z",
     "shell.execute_reply": "2023-01-17T18:26:30.546295Z",
     "shell.execute_reply.started": "2023-01-17T18:26:30.486187Z"
    },
    "tags": []
   },
   "outputs": [],
   "source": [
    "# g = sns.FacetGrid(data, col=\"Asset Class\", hue = \"Asset Class\", col_wrap=5, sharey = False, sharex = False)\n",
    "# g.map(sns.histplot, \"ESG Score\", bins = 15);\n",
    "\n",
    "# sns.histplot(\n",
    "#     data = etfdata,\n",
    "#     x = \"ESG Score\",\n",
    "# );\n",
    "# plt.title(f\"ESG Score Distribution\");"
   ]
  },
  {
   "cell_type": "code",
   "execution_count": 7,
   "id": "fdf06668-d535-48ac-98c7-609b03cc2552",
   "metadata": {
    "execution": {
     "iopub.execute_input": "2023-01-17T18:26:31.224418Z",
     "iopub.status.busy": "2023-01-17T18:26:31.223922Z",
     "iopub.status.idle": "2023-01-17T18:26:32.085816Z",
     "shell.execute_reply": "2023-01-17T18:26:32.082351Z",
     "shell.execute_reply.started": "2023-01-17T18:26:31.224383Z"
    },
    "tags": []
   },
   "outputs": [
    {
     "data": {
      "image/png": "[encoded data removed]",
      "text/plain": [
       "<Figure size 1000x500 with 1 Axes>"
      ]
     },
     "metadata": {},
     "output_type": "display_data"
    }
   ],
   "source": [
    "# g = sns.FacetGrid(data, col=\"Asset Class\", hue = \"Asset Class\", col_wrap=5, sharey = False, sharex = False)\n",
    "# g.map(sns.histplot, \"Expense Ratio\", bins = 15);\n",
    "\n",
    "sns.histplot(\n",
    "    data = etfdata,\n",
    "    x = \"Expense Ratio\",\n",
    "    bins = 70\n",
    ");\n",
    "plt.title(f\"Expense Ratio Distribution\");"
   ]
  },
  {
   "cell_type": "code",
   "execution_count": 39,
   "id": "fdfd5e96-9de7-494f-b2bb-b5e5a5885fe1",
   "metadata": {
    "execution": {
     "iopub.execute_input": "2023-01-12T11:55:02.119851Z",
     "iopub.status.busy": "2023-01-12T11:55:02.119291Z",
     "iopub.status.idle": "2023-01-12T11:55:02.299604Z",
     "shell.execute_reply": "2023-01-12T11:55:02.291279Z",
     "shell.execute_reply.started": "2023-01-12T11:55:02.119805Z"
    },
    "tags": []
   },
   "outputs": [
    {
     "data": {
      "text/html": [
       "<div>\n",
       "<style scoped>\n",
       "    .dataframe tbody tr th:only-of-type {\n",
       "        vertical-align: middle;\n",
       "    }\n",
       "\n",
       "    .dataframe tbody tr th {\n",
       "        vertical-align: top;\n",
       "    }\n",
       "\n",
       "    .dataframe thead th {\n",
       "        text-align: right;\n",
       "    }\n",
       "</style>\n",
       "<table border=\"1\" class=\"dataframe\">\n",
       "  <thead>\n",
       "    <tr style=\"text-align: right;\">\n",
       "      <th></th>\n",
       "      <th>Expense Ratio</th>\n",
       "    </tr>\n",
       "  </thead>\n",
       "  <tbody>\n",
       "    <tr>\n",
       "      <th>count</th>\n",
       "      <td>2994.000000</td>\n",
       "    </tr>\n",
       "    <tr>\n",
       "      <th>mean</th>\n",
       "      <td>0.005513</td>\n",
       "    </tr>\n",
       "    <tr>\n",
       "      <th>std</th>\n",
       "      <td>0.004617</td>\n",
       "    </tr>\n",
       "    <tr>\n",
       "      <th>min</th>\n",
       "      <td>0.000000</td>\n",
       "    </tr>\n",
       "    <tr>\n",
       "      <th>25%</th>\n",
       "      <td>0.002900</td>\n",
       "    </tr>\n",
       "    <tr>\n",
       "      <th>50%</th>\n",
       "      <td>0.005000</td>\n",
       "    </tr>\n",
       "    <tr>\n",
       "      <th>75%</th>\n",
       "      <td>0.007500</td>\n",
       "    </tr>\n",
       "    <tr>\n",
       "      <th>max</th>\n",
       "      <td>0.109200</td>\n",
       "    </tr>\n",
       "  </tbody>\n",
       "</table>\n",
       "</div>"
      ],
      "text/plain": [
       "       Expense Ratio\n",
       "count    2994.000000\n",
       "mean        0.005513\n",
       "std         0.004617\n",
       "min         0.000000\n",
       "25%         0.002900\n",
       "50%         0.005000\n",
       "75%         0.007500\n",
       "max         0.109200"
      ]
     },
     "execution_count": 39,
     "metadata": {},
     "output_type": "execute_result"
    }
   ],
   "source": [
    "etfdata.describe()"
   ]
  },
  {
   "cell_type": "code",
   "execution_count": 40,
   "id": "61a72fdb-67ed-458d-8dff-100cc9e5b966",
   "metadata": {
    "execution": {
     "iopub.execute_input": "2023-01-12T11:55:02.305539Z",
     "iopub.status.busy": "2023-01-12T11:55:02.304473Z",
     "iopub.status.idle": "2023-01-12T11:55:02.596681Z",
     "shell.execute_reply": "2023-01-12T11:55:02.591120Z",
     "shell.execute_reply.started": "2023-01-12T11:55:02.305482Z"
    },
    "tags": []
   },
   "outputs": [
    {
     "name": "stdout",
     "output_type": "stream",
     "text": [
      "<class 'pandas.core.frame.DataFrame'>\n",
      "RangeIndex: 2263 entries, 0 to 2262\n",
      "Data columns (total 5 columns):\n",
      " #   Column         Non-Null Count  Dtype  \n",
      "---  ------         --------------  -----  \n",
      " 0   Symbol         2263 non-null   object \n",
      " 1   ETF Name       2263 non-null   object \n",
      " 2   Asset Class    2263 non-null   object \n",
      " 3   Expense Ratio  2263 non-null   float64\n",
      " 4   region         2263 non-null   object \n",
      "dtypes: float64(1), object(4)\n",
      "memory usage: 88.5+ KB\n"
     ]
    }
   ],
   "source": [
    "# cond = (etfdata[\"Expense Ratio\"] <= 0.0075) & (etfdata[\"Avg. Daily Share Volume (3mo)\"] >= 25000)\n",
    "cond = (etfdata[\"Expense Ratio\"] <= 0.0075)\n",
    "\n",
    "data = etfdata.loc[cond].reset_index(drop=True)\n",
    "\n",
    "data.info()"
   ]
  },
  {
   "cell_type": "markdown",
   "id": "90954c8e-e055-455b-ae30-05b9454e78ea",
   "metadata": {},
   "source": [
    "# Get Returns"
   ]
  },
  {
   "cell_type": "code",
   "execution_count": 41,
   "id": "226b34d2-7f8c-47b2-b3f9-bdeb1c49a286",
   "metadata": {
    "execution": {
     "iopub.execute_input": "2023-01-12T11:55:02.630474Z",
     "iopub.status.busy": "2023-01-12T11:55:02.625310Z",
     "iopub.status.idle": "2023-01-12T11:55:02.822250Z",
     "shell.execute_reply": "2023-01-12T11:55:02.820883Z",
     "shell.execute_reply.started": "2023-01-12T11:55:02.630313Z"
    },
    "tags": []
   },
   "outputs": [],
   "source": [
    "with open(\"Data/Benchmarks.json\", \"r\") as openfile:\n",
    "    # Reading from json file\n",
    "    nord_portfolios = json.load(openfile)\n",
    "    \n",
    "nord_symbols = nord_portfolios.get(\"nord_5\").get(\"symbols\")\n",
    "nord_names = nord_portfolios.get(\"nord_5\").get(\"names\")"
   ]
  },
  {
   "cell_type": "code",
   "execution_count": 42,
   "id": "d8bc6817-29b8-4609-8e60-3ee4407968c9",
   "metadata": {
    "execution": {
     "iopub.execute_input": "2023-01-12T11:55:02.825998Z",
     "iopub.status.busy": "2023-01-12T11:55:02.824049Z",
     "iopub.status.idle": "2023-01-12T11:55:02.996926Z",
     "shell.execute_reply": "2023-01-12T11:55:02.994036Z",
     "shell.execute_reply.started": "2023-01-12T11:55:02.825931Z"
    },
    "tags": []
   },
   "outputs": [],
   "source": [
    "# nord_etfs = {\n",
    "#     'DB Xtrackers II Eurozone Government Bond UCITS': 'DBXN.DE',    # XETRA Delayed Price. Currency in EUR\n",
    "#     'iShares Core MSCI World UCITS': 'SWDA.MI',   # Milan Delayed Price. Currency in EUR\n",
    "#     'DB Xtrackers II EUR Corporate Bond UCITS': 'XBLC.MI',   # Milan Delayed Price. Currency in EUR\n",
    "#     'iShares Core S&P 500 UCITS': 'CSPX.L',  # LSE Delayed Price. Currency in USD\n",
    "#     'iShares Core Euro STOXX 50 UCITS': 'SXRT.DE',   # XETRA Delayed Price. Currency in EUR\n",
    "#     'iShares Core MSCI EM IMI UCITS': 'EIMI.L',   # LSE Delayed Price. Currency in USD\n",
    "#     'iShares Core MSCI Japan IMI UCITS': 'IJPA.L'  # LSE Delayed Price. Currency in USD\n",
    "# }"
   ]
  },
  {
   "cell_type": "code",
   "execution_count": 43,
   "id": "2312d5c5-123b-41a0-9731-dec89eed61da",
   "metadata": {
    "execution": {
     "iopub.execute_input": "2023-01-12T11:55:02.999724Z",
     "iopub.status.busy": "2023-01-12T11:55:02.999232Z",
     "iopub.status.idle": "2023-01-12T11:56:07.767537Z",
     "shell.execute_reply": "2023-01-12T11:56:07.765770Z",
     "shell.execute_reply.started": "2023-01-12T11:55:02.999692Z"
    },
    "tags": []
   },
   "outputs": [
    {
     "data": {
      "text/plain": [
       "(412, 882)"
      ]
     },
     "execution_count": 43,
     "metadata": {},
     "output_type": "execute_result"
    }
   ],
   "source": [
    "from Code.functions import get_weekly_returns\n",
    "\n",
    "start_date = \"2015-01-01\"\n",
    "end_date = \"2022-12-01\"\n",
    "    \n",
    "etfreturns_data = get_weekly_returns(\n",
    "    start_date = start_date,\n",
    "    end_date = end_date,\n",
    "    symbols = data[\"Symbol\"].to_list() + nord_symbols\n",
    ")\n",
    "\n",
    "etfreturns_data.shape"
   ]
  },
  {
   "cell_type": "markdown",
   "id": "575a96dd-9da0-425e-9590-3076208d01c2",
   "metadata": {},
   "source": [
    "# Get Volume"
   ]
  },
  {
   "cell_type": "code",
   "execution_count": 44,
   "id": "ce0e3528-049d-4668-a39f-80d4dc2da714",
   "metadata": {
    "execution": {
     "iopub.execute_input": "2023-01-12T11:56:07.771044Z",
     "iopub.status.busy": "2023-01-12T11:56:07.770285Z",
     "iopub.status.idle": "2023-01-12T11:56:38.030893Z",
     "shell.execute_reply": "2023-01-12T11:56:38.027648Z",
     "shell.execute_reply.started": "2023-01-12T11:56:07.770989Z"
    },
    "tags": []
   },
   "outputs": [
    {
     "data": {
      "text/plain": [
       "(1994, 875)"
      ]
     },
     "execution_count": 44,
     "metadata": {},
     "output_type": "execute_result"
    }
   ],
   "source": [
    "from Code.functions import get_daily_volume\n",
    "\n",
    "etfvolume_data = get_daily_volume(\n",
    "    start_date = start_date,\n",
    "    end_date = end_date,\n",
    "    symbols = data[\"Symbol\"][data[\"Symbol\"].isin(etfreturns_data.columns)].to_list()\n",
    ")\n",
    "\n",
    "etfvolume_data.shape"
   ]
  },
  {
   "cell_type": "code",
   "execution_count": 45,
   "id": "755b11d3-7e7b-4285-a44f-56c53880d1b4",
   "metadata": {
    "execution": {
     "iopub.execute_input": "2023-01-12T11:56:38.033763Z",
     "iopub.status.busy": "2023-01-12T11:56:38.033107Z",
     "iopub.status.idle": "2023-01-12T11:56:38.160898Z",
     "shell.execute_reply": "2023-01-12T11:56:38.160029Z",
     "shell.execute_reply.started": "2023-01-12T11:56:38.033713Z"
    },
    "tags": []
   },
   "outputs": [],
   "source": [
    "tmp = pd.DataFrame(index = np.arange(0,100, 5))\n",
    "mean_daily_volume = etfvolume_data.mean()\n",
    "mean_daily_volume.name = \"Avg. Daily Volume\"\n",
    "n = []\n",
    "for p in tmp.index:\n",
    "    \n",
    "    count = (mean_daily_volume >= np.percentile(mean_daily_volume.values, p)).sum()\n",
    "    n.append(count)\n",
    "tmp[\"n\"] = n"
   ]
  },
  {
   "cell_type": "code",
   "execution_count": 46,
   "id": "fcfc1fb5-f2d2-4ce3-8544-46fd1c2eae89",
   "metadata": {
    "execution": {
     "iopub.execute_input": "2023-01-12T11:56:38.163558Z",
     "iopub.status.busy": "2023-01-12T11:56:38.163024Z",
     "iopub.status.idle": "2023-01-12T11:56:38.675918Z",
     "shell.execute_reply": "2023-01-12T11:56:38.672654Z",
     "shell.execute_reply.started": "2023-01-12T11:56:38.163524Z"
    },
    "tags": []
   },
   "outputs": [
    {
     "data": {
      "image/png": "[encoded data removed]",
      "text/plain": [
       "<Figure size 1000x500 with 1 Axes>"
      ]
     },
     "metadata": {},
     "output_type": "display_data"
    }
   ],
   "source": [
    "import matplotlib.ticker as mticker\n",
    "\n",
    "fig, ax = plt.subplots()\n",
    "tmp.plot(ax=ax)\n",
    "plt.axvline(25, color = \"black\", linestyle = \"--\", label = \"25% percentile\", alpha = 0.6)\n",
    "plt.axvline(50, color = \"black\", linestyle = \"--\", label = \"50% percentile\", alpha = 0.3)\n",
    "plt.legend()\n",
    "plt.xlabel(\"Percentile\")\n",
    "plt.ylabel(\"Number of ETFs\")\n",
    "plt.title(\"Average Daily Volume Percentiles\")\n",
    "\n",
    "tick_loc = ax.get_xticks()\n",
    "tick_labels = [f\">= {tick:0.0f} %\"  for tick in tick_loc]\n",
    "ax.xaxis.set_major_locator(mticker.FixedLocator(tick_loc))\n",
    "ax.set_xticklabels(tick_labels)\n",
    "\n",
    "plt.show();"
   ]
  },
  {
   "cell_type": "code",
   "execution_count": 47,
   "id": "5048d6e4-3c8e-4bbb-9ec7-f2710b7f174a",
   "metadata": {
    "execution": {
     "iopub.execute_input": "2023-01-12T11:56:38.678487Z",
     "iopub.status.busy": "2023-01-12T11:56:38.677799Z",
     "iopub.status.idle": "2023-01-12T11:56:38.772723Z",
     "shell.execute_reply": "2023-01-12T11:56:38.771206Z",
     "shell.execute_reply.started": "2023-01-12T11:56:38.678440Z"
    },
    "tags": []
   },
   "outputs": [
    {
     "name": "stdout",
     "output_type": "stream",
     "text": [
      "25% percentile of the average daily volume: 28818.23, with 656 ETFs\n",
      "50% percentile of the average daily volume: 113894.53, with 438 ETFs\n"
     ]
    }
   ],
   "source": [
    "p25 = np.percentile(mean_daily_volume, 25)\n",
    "p50 = np.percentile(mean_daily_volume, 50)\n",
    "print(f\"25% percentile of the average daily volume: {p25:0.2f}, with {tmp.loc[25][0]} ETFs\")\n",
    "print(f\"50% percentile of the average daily volume: {p50:0.2f}, with {tmp.loc[50][0]} ETFs\")"
   ]
  },
  {
   "cell_type": "code",
   "execution_count": 48,
   "id": "926f1fba-32d6-4a9f-a7ff-d63a51ed7549",
   "metadata": {
    "execution": {
     "iopub.execute_input": "2023-01-12T11:56:38.776361Z",
     "iopub.status.busy": "2023-01-12T11:56:38.775719Z",
     "iopub.status.idle": "2023-01-12T11:56:38.886881Z",
     "shell.execute_reply": "2023-01-12T11:56:38.885064Z",
     "shell.execute_reply.started": "2023-01-12T11:56:38.776307Z"
    },
    "tags": []
   },
   "outputs": [
    {
     "data": {
      "text/plain": [
       "(412, 663)"
      ]
     },
     "execution_count": 48,
     "metadata": {},
     "output_type": "execute_result"
    }
   ],
   "source": [
    "filtered_symbols = mean_daily_volume[mean_daily_volume > p25].index.tolist()\n",
    "\n",
    "etfreturns_filtered = etfreturns_data[filtered_symbols + nord_symbols]\n",
    "etfreturns_filtered.shape"
   ]
  },
  {
   "cell_type": "code",
   "execution_count": 49,
   "id": "758effd2-1890-426d-8579-45a6e7630682",
   "metadata": {
    "execution": {
     "iopub.execute_input": "2023-01-12T11:56:38.889197Z",
     "iopub.status.busy": "2023-01-12T11:56:38.888547Z",
     "iopub.status.idle": "2023-01-12T11:56:39.003658Z",
     "shell.execute_reply": "2023-01-12T11:56:39.001187Z",
     "shell.execute_reply.started": "2023-01-12T11:56:38.889146Z"
    },
    "tags": []
   },
   "outputs": [
    {
     "data": {
      "text/plain": [
       "(656, 6)"
      ]
     },
     "execution_count": 49,
     "metadata": {},
     "output_type": "execute_result"
    }
   ],
   "source": [
    "etfdata_filtered = etfdata[etfdata[\"Symbol\"].isin(etfreturns_filtered.columns)].reset_index(drop = True)\n",
    "etfdata_filtered = pd.merge(left = etfdata_filtered, right = mean_daily_volume, left_on = \"Symbol\", right_index = True)\n",
    "etfdata_filtered.shape"
   ]
  },
  {
   "cell_type": "code",
   "execution_count": 50,
   "id": "d5d5ac94-308e-4f2d-97b6-99dc0c164012",
   "metadata": {
    "execution": {
     "iopub.execute_input": "2023-01-12T11:56:39.010623Z",
     "iopub.status.busy": "2023-01-12T11:56:39.007570Z",
     "iopub.status.idle": "2023-01-12T11:56:39.107468Z",
     "shell.execute_reply": "2023-01-12T11:56:39.105748Z",
     "shell.execute_reply.started": "2023-01-12T11:56:39.010447Z"
    },
    "tags": []
   },
   "outputs": [],
   "source": [
    "# sns.scatterplot(\n",
    "#     data = data,\n",
    "#     x = \"std returns\",\n",
    "#     y = \"mean returns\",\n",
    "#     hue = \"Asset Class\"\n",
    "# );"
   ]
  },
  {
   "cell_type": "markdown",
   "id": "d69a9ac0-9d99-4bc7-8516-8ad414b83603",
   "metadata": {},
   "source": [
    "# Store Data"
   ]
  },
  {
   "cell_type": "code",
   "execution_count": 51,
   "id": "43bcf6c1-fe35-407f-bdac-5aed1d325a91",
   "metadata": {
    "execution": {
     "iopub.execute_input": "2023-01-12T11:56:39.110025Z",
     "iopub.status.busy": "2023-01-12T11:56:39.109197Z",
     "iopub.status.idle": "2023-01-12T11:56:39.214822Z",
     "shell.execute_reply": "2023-01-12T11:56:39.212895Z",
     "shell.execute_reply.started": "2023-01-12T11:56:39.109979Z"
    },
    "tags": []
   },
   "outputs": [],
   "source": [
    "\n",
    "etf_symbols = {\n",
    "    \"universe\": etfdata_filtered[\"Symbol\"].to_list(),\n",
    "    \"nord\": nord_symbols\n",
    "}\n",
    "\n",
    "etf_names = {\n",
    "    \"universe\": etfdata_filtered[\"ETF Name\"].to_list(),\n",
    "    \"nord\": nord_names\n",
    "}\n",
    "\n",
    "etf_dict = {\n",
    "    \"symbols\":etf_symbols,\n",
    "    \"names\":etf_names\n",
    "}\n"
   ]
  },
  {
   "cell_type": "code",
   "execution_count": 57,
   "id": "b3e68b66-e4b6-4a23-a272-c8dee9b8e465",
   "metadata": {
    "execution": {
     "iopub.execute_input": "2023-01-12T13:03:35.112500Z",
     "iopub.status.busy": "2023-01-12T13:03:35.111750Z",
     "iopub.status.idle": "2023-01-12T13:03:35.909122Z",
     "shell.execute_reply": "2023-01-12T13:03:35.907944Z",
     "shell.execute_reply.started": "2023-01-12T13:03:35.112457Z"
    },
    "tags": []
   },
   "outputs": [],
   "source": [
    "# # # crate dict where symbols are keys\n",
    "# # etfdata_filtered_dict = etfdata_filtered.set_index(\"Symbol\").to_dict(orient=\"index\")\n",
    "\n",
    "# # # write out to files\n",
    "# # with open(\"Data/Data_ETFs.json\", \"w\") as outfile:\n",
    "# #     # Write to json file\n",
    "# #     json.dump(etfdata_filtered_dict, outfile)\n",
    "    \n",
    "# etfdata_filtered.to_csv(\"Data/Data_ETFs_Info.csv\", index=False)\n",
    "    \n",
    "# # to json\n",
    "# with open(\"Data/Data_ETFs_Names.json\", \"w\") as outfile:\n",
    "#     # Write to json file\n",
    "#     json.dump(etf_dict, outfile)\n",
    "\n",
    "# etfreturns_filtered.to_parquet(\"Data/Data_ETFs_Returns.gzip\", compression='gzip')"
   ]
  },
  {
   "cell_type": "code",
   "execution_count": null,
   "id": "a7a61ae6-52c4-4353-bc67-8424a69d1a23",
   "metadata": {},
   "outputs": [],
   "source": []
  },
  {
   "cell_type": "code",
   "execution_count": null,
   "id": "267189a7-aaff-4d65-94f6-dc1d2ee4c328",
   "metadata": {},
   "outputs": [],
   "source": []
  }
 ],
 "metadata": {
  "kernelspec": {
   "display_name": "Python 3 (ipykernel)",
   "language": "python",
   "name": "python3"
  },
  "language_info": {
   "codemirror_mode": {
    "name": "ipython",
    "version": 3
   },
   "file_extension": ".py",
   "mimetype": "text/x-python",
   "name": "python",
   "nbconvert_exporter": "python",
   "pygments_lexer": "ipython3",
   "version": "3.10.8"
  }
 },
 "nbformat": 4,
 "nbformat_minor": 5
}
