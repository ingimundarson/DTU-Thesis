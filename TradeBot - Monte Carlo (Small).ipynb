{
 "cells": [
  {
   "cell_type": "code",
   "execution_count": 1,
   "id": "00f3085a-de51-4531-bd09-db2f3ecf9b7d",
   "metadata": {
    "execution": {
     "iopub.execute_input": "2023-01-21T10:12:56.342280Z",
     "iopub.status.busy": "2023-01-21T10:12:56.338068Z",
     "iopub.status.idle": "2023-01-21T10:12:59.510719Z",
     "shell.execute_reply": "2023-01-21T10:12:59.509697Z",
     "shell.execute_reply.started": "2023-01-21T10:12:56.342186Z"
    },
    "tags": []
   },
   "outputs": [],
   "source": [
    "import numpy as np\n",
    "import pandas as pd\n",
    "from datetime import datetime\n",
    "import random\n",
    "random.seed(123)\n",
    "\n",
    "import json\n",
    "import os\n",
    "\n",
    "%run Code/plot_setup.py\n",
    "\n",
    "%reload_ext autoreload\n",
    "%autoreload 2\n",
    "\n",
    "cwd = os.getcwd()"
   ]
  },
  {
   "cell_type": "code",
   "execution_count": 2,
   "id": "5096c3b0-2d88-4547-9b4e-41f254b9d77c",
   "metadata": {
    "execution": {
     "iopub.execute_input": "2023-01-21T10:12:59.517408Z",
     "iopub.status.busy": "2023-01-21T10:12:59.513557Z",
     "iopub.status.idle": "2023-01-21T10:13:01.640449Z",
     "shell.execute_reply": "2023-01-21T10:13:01.631946Z",
     "shell.execute_reply.started": "2023-01-21T10:12:59.516867Z"
    },
    "tags": []
   },
   "outputs": [],
   "source": [
    "os.chdir(cwd + \"/Investment_Funnel_SOM\")\n",
    "from models.main import TradeBot\n",
    "\n",
    "# setup funnel\n",
    "algo = TradeBot()"
   ]
  },
  {
   "cell_type": "code",
   "execution_count": 3,
   "id": "953fe3a5-de16-4419-a69d-c90b76271dd7",
   "metadata": {
    "execution": {
     "iopub.execute_input": "2023-01-21T10:13:01.644082Z",
     "iopub.status.busy": "2023-01-21T10:13:01.643497Z",
     "iopub.status.idle": "2023-01-21T10:13:02.716060Z",
     "shell.execute_reply": "2023-01-21T10:13:02.714780Z",
     "shell.execute_reply.started": "2023-01-21T10:13:01.644019Z"
    },
    "tags": []
   },
   "outputs": [],
   "source": [
    "# setup data\n",
    "\n",
    "# full set\n",
    "start = \"2015-01-15\"\n",
    "end = \"2022-11-24\"\n",
    "\n",
    "train_test_datesplit = \"2019-01-01\"\n",
    "\n",
    "# SETUP WORKING DATASET, DIVIDE DATASET INTO TRAINING AND TESTING PART?\n",
    "algo.setup_data(\n",
    "    start=start, \n",
    "    end=end, \n",
    "    train_test=True,  \n",
    "    end_train = train_test_datesplit, \n",
    "    start_test = train_test_datesplit\n",
    ")\n"
   ]
  },
  {
   "cell_type": "code",
   "execution_count": 4,
   "id": "df405692-4ae1-409d-b2bb-9dde1ef6fb4d",
   "metadata": {
    "execution": {
     "iopub.execute_input": "2023-01-21T10:13:09.566825Z",
     "iopub.status.busy": "2023-01-21T10:13:09.566375Z",
     "iopub.status.idle": "2023-01-21T10:13:09.660407Z",
     "shell.execute_reply": "2023-01-21T10:13:09.658994Z",
     "shell.execute_reply.started": "2023-01-21T10:13:09.566793Z"
    },
    "tags": []
   },
   "outputs": [
    {
     "name": "stdout",
     "output_type": "stream",
     "text": [
      "n = 24 in SOM-Cluster\n",
      "n = 24 in Cluster\n",
      "n = 27 in SOM-MST\n",
      "n = 21 in MST\n"
     ]
    }
   ],
   "source": [
    "# etf symbols and names\n",
    "with open(\"../Data/Data_ETFs_Names.json\", \"r\") as openfile:\n",
    "    # Reading from json file\n",
    "    etf_dict = json.load(openfile)\n",
    "    \n",
    "# benchmarks\n",
    "with open(\"../Data/Benchmarks.json\", \"r\") as openfile:\n",
    "    # Reading from json file\n",
    "    nord_benchmarks = json.load(openfile)\n",
    "    \n",
    "risk_level_weights = {}\n",
    "for key,  item in nord_benchmarks.items():\n",
    "    risk_level_weights[key] = [round(w, 4) for w in item.get(\"weights\")]\n",
    "    \n",
    "    \n",
    "# subsets\n",
    "with open(\"../Data/Data_ETFs_Subsets(Small).json\", \"r\") as openfile:\n",
    "    # Reading from json file\n",
    "    portfolio_subsets = json.load(openfile)\n",
    "    \n",
    "nord_subset = etf_dict[\"symbols\"].get(\"nord\")\n",
    "universe_subset = portfolio_subsets.pop(\"Universe\")\n",
    "\n",
    "\n",
    "# for port in ['SOM-Cluster', 'Cluster', \"SOM-MST\", \"MST\"]:\n",
    "#     tmp_pop = portfolio_subsets.pop(port)\n",
    "# \n",
    "# for port in ['nord_13', 'nord_20']:\n",
    "#     tmp_pop = risk_level_weights.pop(port)\n",
    "    \n",
    "for portfolio, sub in portfolio_subsets.items():\n",
    "    print(f\"n = {len(sub)} in {portfolio}\")"
   ]
  },
  {
   "cell_type": "code",
   "execution_count": 6,
   "id": "58e989b4-26f6-4654-b5ae-6d1b2ab04769",
   "metadata": {
    "execution": {
     "iopub.execute_input": "2023-01-21T10:13:29.016940Z",
     "iopub.status.busy": "2023-01-21T10:13:29.016226Z",
     "iopub.status.idle": "2023-01-21T10:13:32.583056Z",
     "shell.execute_reply": "2023-01-21T10:13:32.581603Z",
     "shell.execute_reply.started": "2023-01-21T10:13:29.016896Z"
    },
    "tags": []
   },
   "outputs": [
    {
     "name": "stdout",
     "output_type": "stream",
     "text": [
      "\n",
      "Getting targets for: nord_5\n",
      "Scenario generation: Monte Carlo\n",
      "\n",
      "-------Simulating Weekly Returns-------\n",
      "-------Computing Period Returns-------\n",
      "\n",
      "Getting targets for: nord_13\n",
      "Scenario generation: Monte Carlo\n",
      "\n",
      "-------Simulating Weekly Returns-------\n",
      "-------Computing Period Returns-------\n",
      "\n",
      "Getting targets for: nord_20\n",
      "Scenario generation: Monte Carlo\n",
      "\n",
      "-------Simulating Weekly Returns-------\n",
      "-------Computing Period Returns-------\n"
     ]
    }
   ],
   "source": [
    "from models.CVaRtargets import get_cvar_targets\n",
    "\n",
    "# get cvar targets\n",
    "# benchmark_names = ['iShares MSCI World ETF']\n",
    "# benchmark_symbols = [algo.tickers[list(algo.names).index(name)] for name in benchmark_names]\n",
    "\n",
    "# Number of scenarios\n",
    "n_simulations = 1000\n",
    "n_rebalancing = 12\n",
    "\n",
    "benchmarks = {}\n",
    "for level, level_weights in risk_level_weights.items():\n",
    "\n",
    "    print(f\"\\nGetting targets for: {level}\")\n",
    "    benchmark_symbols = nord_subset\n",
    "    benchmark_weights = level_weights\n",
    "\n",
    "    targets, benchmark_port_val = get_cvar_targets(\n",
    "        start_date = algo.start,\n",
    "        end_date = algo.end,\n",
    "        test_date = algo.startTestDate,\n",
    "        benchmark = benchmark_symbols,  # MSCI World benchmark\n",
    "        weights = benchmark_weights, # benchmark weights\n",
    "        test_index = algo.testDataset.index.date,\n",
    "        budget = 100,\n",
    "        cvar_alpha = 0.05,\n",
    "        data = algo.weeklyReturns,\n",
    "        n_simulations = n_simulations,\n",
    "        n_rebalancing = n_rebalancing\n",
    "    )\n",
    "    \n",
    "    # benchmark_port_val.columns = [level]\n",
    "    # benchmarks[level] = {\"targets\": targets, \"value\": benchmark_port_val}\n",
    "\n",
    "    benchmarks[level] = {\n",
    "        \"targets\": targets[\"CVaR_Target\"].to_list(), \n",
    "        \"value\": benchmark_port_val[\"Benchmark_Value\"].to_list(),\n",
    "    }"
   ]
  },
  {
   "cell_type": "code",
   "execution_count": 6,
   "id": "f0c5770c-10c5-455f-aa82-f71909ab5a0d",
   "metadata": {
    "execution": {
     "iopub.execute_input": "2023-01-20T13:34:20.050937Z",
     "iopub.status.busy": "2023-01-20T13:34:20.049215Z",
     "iopub.status.idle": "2023-01-20T13:41:02.503365Z",
     "shell.execute_reply": "2023-01-20T13:41:02.500525Z",
     "shell.execute_reply.started": "2023-01-20T13:34:20.050865Z"
    },
    "tags": []
   },
   "outputs": [
    {
     "name": "stdout",
     "output_type": "stream",
     "text": [
      "Optimising portfolio allocation. (targets = nord_5)\n",
      "\n",
      "\tOptimising allocation of: SOM-Cluster\n",
      "-------Simulating Weekly Returns-------\n",
      "-------Computing Monthly Returns-------\n",
      "\tOptimising allocation of: Cluster\n",
      "-------Simulating Weekly Returns-------\n",
      "-------Computing Monthly Returns-------\n",
      "\tOptimising allocation of: SOM-MST\n",
      "-------Simulating Weekly Returns-------\n",
      "-------Computing Monthly Returns-------\n",
      "\tOptimising allocation of: MST\n",
      "-------Simulating Weekly Returns-------\n",
      "-------Computing Monthly Returns-------\n",
      "\n",
      "Finished.\n",
      "\n",
      "Optimising portfolio allocation. (targets = nord_13)\n",
      "\n",
      "\tOptimising allocation of: SOM-Cluster\n",
      "-------Simulating Weekly Returns-------\n",
      "-------Computing Monthly Returns-------\n",
      "\tOptimising allocation of: Cluster\n",
      "-------Simulating Weekly Returns-------\n",
      "-------Computing Monthly Returns-------\n",
      "\tOptimising allocation of: SOM-MST\n",
      "-------Simulating Weekly Returns-------\n",
      "-------Computing Monthly Returns-------\n",
      "\tOptimising allocation of: MST\n",
      "-------Simulating Weekly Returns-------\n",
      "-------Computing Monthly Returns-------\n",
      "\n",
      "Finished.\n",
      "\n",
      "Optimising portfolio allocation. (targets = nord_20)\n",
      "\n",
      "\tOptimising allocation of: SOM-Cluster\n",
      "-------Simulating Weekly Returns-------\n",
      "-------Computing Monthly Returns-------\n",
      "\tOptimising allocation of: Cluster\n",
      "-------Simulating Weekly Returns-------\n",
      "-------Computing Monthly Returns-------\n",
      "\tOptimising allocation of: SOM-MST\n",
      "-------Simulating Weekly Returns-------\n",
      "-------Computing Monthly Returns-------\n",
      "\tOptimising allocation of: MST\n",
      "-------Simulating Weekly Returns-------\n",
      "-------Computing Monthly Returns-------\n",
      "\n",
      "Finished.\n",
      "\n"
     ]
    }
   ],
   "source": [
    "from models.CVaRmodel import cvar_model\n",
    "from models.dataAnalyser import final_stats\n",
    "from models.ScenarioGeneration import bootstrapping, monte_carlo\n",
    "\n",
    "portfolio_data = {}\n",
    "\n",
    "for level, values in benchmarks.items():\n",
    "    \n",
    "    portfolio_data[level] = {}\n",
    "    print(f\"Optimising portfolio allocation. (targets = {level})\\n\")\n",
    "    for subset_name, subset in portfolio_subsets.items():\n",
    "\n",
    "        print(f\"\\tOptimising allocation of: {subset_name}\")\n",
    "        portfolio_data[level][subset_name] = {}\n",
    "\n",
    "        scenarios = monte_carlo(\n",
    "            data = algo.weeklyReturns[subset],  # subsetMST or subsetCLUST\n",
    "            n_simulations = n_simulations,  # number of scenarios per period\n",
    "            n_test = algo.lenTest,\n",
    "            n_rebalancing = n_rebalancing\n",
    "        )\n",
    "\n",
    "        # get optimal portfolio allocation\n",
    "        port_allocation, port_value, port_cvar = cvar_model(\n",
    "            test_ret = algo.testDataset[subset],\n",
    "            scenarios = scenarios,  # Scenarios\n",
    "            targets = benchmarks[level][\"targets\"],  # Target\n",
    "            budget = 100,\n",
    "            cvar_alpha = 0.05,\n",
    "            trans_cost = 0.001,\n",
    "            max_weight = 1,\n",
    "            n_rebalancing = n_rebalancing\n",
    "        )\n",
    "\n",
    "\n",
    "        portfolio_data[level][subset_name].update({\"allocation\":port_allocation.to_dict()})\n",
    "        portfolio_data[level][subset_name].update({\"value\":port_value[\"Portfolio_Value\"].to_list()})\n",
    "        portfolio_data[level][subset_name].update({\"cvar\":port_cvar[\"CVaR\"].to_list()})\n",
    "\n",
    "    print(f\"\\nFinished.\\n\")"
   ]
  },
  {
   "cell_type": "code",
   "execution_count": 7,
   "id": "6de9e2b4-3813-4dfe-b8e7-f223f47c8465",
   "metadata": {
    "execution": {
     "iopub.execute_input": "2023-01-20T13:41:02.525507Z",
     "iopub.status.busy": "2023-01-20T13:41:02.520736Z",
     "iopub.status.idle": "2023-01-20T13:41:02.632334Z",
     "shell.execute_reply": "2023-01-20T13:41:02.631218Z",
     "shell.execute_reply.started": "2023-01-20T13:41:02.525440Z"
    },
    "tags": []
   },
   "outputs": [],
   "source": [
    "date_index = [str(d) for d in benchmark_port_val.index.to_list()]\n",
    "optimization_data = {\n",
    "    \"benchmarks\": benchmarks, \n",
    "    \"portfolios\": portfolio_data,\n",
    "    \"date_index\": date_index\n",
    "}"
   ]
  },
  {
   "cell_type": "code",
   "execution_count": 10,
   "id": "a328ce4e-871e-48ee-a025-e654737a54fa",
   "metadata": {
    "execution": {
     "iopub.execute_input": "2023-01-20T13:43:16.975876Z",
     "iopub.status.busy": "2023-01-20T13:43:16.974390Z",
     "iopub.status.idle": "2023-01-20T13:43:17.135131Z",
     "shell.execute_reply": "2023-01-20T13:43:17.133648Z",
     "shell.execute_reply.started": "2023-01-20T13:43:16.975818Z"
    },
    "tags": []
   },
   "outputs": [],
   "source": [
    "# # to json\n",
    "# \n",
    "# os.chdir(cwd)\n",
    "# with open(\"Data/Optimization_Results(Small).json\", \"w\") as outfile:\n",
    "#     # Write to json file\n",
    "#     json.dump(optimization_data, outfile)"
   ]
  },
  {
   "cell_type": "code",
   "execution_count": null,
   "id": "a396b825-c348-44df-8753-929ccf99b771",
   "metadata": {},
   "outputs": [],
   "source": []
  }
 ],
 "metadata": {
  "kernelspec": {
   "display_name": "Python 3 (ipykernel)",
   "language": "python",
   "name": "python3"
  },
  "language_info": {
   "codemirror_mode": {
    "name": "ipython",
    "version": 3
   },
   "file_extension": ".py",
   "mimetype": "text/x-python",
   "name": "python",
   "nbconvert_exporter": "python",
   "pygments_lexer": "ipython3",
   "version": "3.10.8"
  }
 },
 "nbformat": 4,
 "nbformat_minor": 5
}
