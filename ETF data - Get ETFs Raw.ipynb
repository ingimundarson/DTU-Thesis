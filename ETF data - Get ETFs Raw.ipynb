{
 "cells": [
  {
   "cell_type": "code",
   "execution_count": 34,
   "id": "17d48a3e",
   "metadata": {},
   "outputs": [],
   "source": [
    "# Import libraries\n",
    "import requests\n",
    "from bs4 import BeautifulSoup\n",
    "\n",
    "import pandas as pd\n",
    "import numpy as np\n",
    "\n",
    "from tqdm import tqdm\n",
    "import time\n",
    "import json\n",
    "\n",
    "from bs4 import BeautifulSoup\n",
    "from selenium import webdriver\n",
    "from selenium.webdriver.chrome.service import Service\n",
    "from webdriver_manager.chrome import ChromeDriverManager"
   ]
  },
  {
   "cell_type": "code",
   "execution_count": 2,
   "id": "ed0f017e",
   "metadata": {},
   "outputs": [],
   "source": [
    "def getresponse(url):\n",
    "    headers = {\n",
    "        \"User-Agent\":\"Mozilla/5.0 (Macintosh; Intel Mac OS X 10_15_7) AppleWebKit/537.36 (KHTML, like Gecko) Chrome/106.0.0.0 Safari/537.36\",\n",
    "        \"Accept-Language\":\"en-US,en;q=0.9,is;q=0.8,da;q=0.7\",\n",
    "        \"Referer\":\"https://www.google.com/\",\n",
    "        \"DNT\":\"1\",\n",
    "    }\n",
    "    res = requests.get(url, headers=headers)\n",
    "    res.raise_for_status()\n",
    "    return res\n",
    "\n",
    "def percent2float(p):\n",
    "    return float(p.strip('%'))/100  \n"
   ]
  },
  {
   "cell_type": "code",
   "execution_count": 3,
   "id": "dbd2e8d2",
   "metadata": {},
   "outputs": [
    {
     "data": {
      "text/plain": [
       "['overview',\n",
       " 'returns',\n",
       " 'fund-flows',\n",
       " 'expenses',\n",
       " 'esg',\n",
       " 'dividends',\n",
       " 'risk',\n",
       " 'holdings',\n",
       " 'taxes',\n",
       " 'technicals',\n",
       " 'analysis',\n",
       " 'realtime-ratings']"
      ]
     },
     "execution_count": 3,
     "metadata": {},
     "output_type": "execute_result"
    }
   ],
   "source": [
    "# get field names\n",
    "url = \"https://etfdb.com/screener/\"\n",
    "response = getresponse(url)\n",
    "soup = BeautifulSoup(response.text, 'lxml')\n",
    "\n",
    "field_list = soup.find(\"ul\", attrs={\"class\":\"nav nav-pills\"})\n",
    "fields = [li.text.replace(\"New\",\"\").strip().replace(\" \", \"-\").lower() for li in field_list.find_all(\"li\")]\n",
    "fields "
   ]
  },
  {
   "cell_type": "code",
   "execution_count": 4,
   "id": "012aa097",
   "metadata": {},
   "outputs": [],
   "source": [
    "# choose field names to fetch\n",
    "fields = [\n",
    "    'overview',\n",
    "    'returns',\n",
    "#     'fund-flows',\n",
    "    'expenses',\n",
    "    'esg',\n",
    "    'dividends',\n",
    "    'risk',\n",
    "    'holdings',\n",
    "#     'taxes',\n",
    "#     'technicals',\n",
    "#     'analysis',\n",
    "    'realtime-ratings'\n",
    "]"
   ]
  },
  {
   "cell_type": "code",
   "execution_count": 37,
   "id": "38f07d6c",
   "metadata": {},
   "outputs": [
    {
     "name": "stdout",
     "output_type": "stream",
     "text": [
      "\n",
      "Fetcing data for field: overview (1 of 8)\n"
     ]
    },
    {
     "name": "stderr",
     "output_type": "stream",
     "text": [
      "100%|█████████████████████████████████████████| 120/120 [08:24<00:00,  4.21s/it]\n"
     ]
    },
    {
     "name": "stdout",
     "output_type": "stream",
     "text": [
      "\n",
      "Fetcing data for field: returns (2 of 8)\n"
     ]
    },
    {
     "name": "stderr",
     "output_type": "stream",
     "text": [
      "100%|█████████████████████████████████████████| 120/120 [08:26<00:00,  4.22s/it]\n"
     ]
    },
    {
     "name": "stdout",
     "output_type": "stream",
     "text": [
      "\n",
      "Fetcing data for field: expenses (3 of 8)\n"
     ]
    },
    {
     "name": "stderr",
     "output_type": "stream",
     "text": [
      "100%|█████████████████████████████████████████| 120/120 [08:34<00:00,  4.29s/it]\n"
     ]
    },
    {
     "name": "stdout",
     "output_type": "stream",
     "text": [
      "\n",
      "Fetcing data for field: esg (4 of 8)\n"
     ]
    },
    {
     "name": "stderr",
     "output_type": "stream",
     "text": [
      "100%|█████████████████████████████████████████| 120/120 [08:31<00:00,  4.26s/it]\n"
     ]
    },
    {
     "name": "stdout",
     "output_type": "stream",
     "text": [
      "\n",
      "Fetcing data for field: dividends (5 of 8)\n"
     ]
    },
    {
     "name": "stderr",
     "output_type": "stream",
     "text": [
      "100%|█████████████████████████████████████████| 120/120 [08:32<00:00,  4.27s/it]\n"
     ]
    },
    {
     "name": "stdout",
     "output_type": "stream",
     "text": [
      "\n",
      "Fetcing data for field: risk (6 of 8)\n"
     ]
    },
    {
     "name": "stderr",
     "output_type": "stream",
     "text": [
      "100%|█████████████████████████████████████████| 120/120 [08:48<00:00,  4.41s/it]\n"
     ]
    },
    {
     "name": "stdout",
     "output_type": "stream",
     "text": [
      "\n",
      "Fetcing data for field: holdings (7 of 8)\n"
     ]
    },
    {
     "name": "stderr",
     "output_type": "stream",
     "text": [
      "100%|█████████████████████████████████████████| 120/120 [08:29<00:00,  4.25s/it]\n"
     ]
    },
    {
     "name": "stdout",
     "output_type": "stream",
     "text": [
      "\n",
      "Fetcing data for field: realtime-ratings (8 of 8)\n"
     ]
    },
    {
     "name": "stderr",
     "output_type": "stream",
     "text": [
      "100%|█████████████████████████████████████████| 120/120 [08:30<00:00,  4.25s/it]\n"
     ]
    }
   ],
   "source": [
    "# fetch data\n",
    "page_max = 120\n",
    "\n",
    "# open browser\n",
    "options = webdriver.ChromeOptions()\n",
    "options.add_argument('--headless')\n",
    "service = Service(ChromeDriverManager().install())\n",
    "\n",
    "\n",
    "data = {}\n",
    "for idx, field in enumerate(fields):\n",
    "    \n",
    "    print(f\"\\nFetcing data for field: {field} ({idx + 1} of {len(fields)})\")\n",
    "    \n",
    "    field_data = pd.DataFrame()\n",
    "    browser = webdriver.Chrome(service=service, options=options)\n",
    "    \n",
    "    for page in tqdm(range(page_max)):\n",
    "\n",
    "        # update url with page and field\n",
    "        url = f\"https://etfdb.com/screener/#tab={field}&page={page + 1}\"\n",
    "\n",
    "        # open url and get page source\n",
    "        browser.get(url)\n",
    "        browser.refresh()\n",
    "        time.sleep(3)\n",
    "        \n",
    "        html = browser.page_source\n",
    "\n",
    "        # get page table as df from source\n",
    "        soup = BeautifulSoup(html, features=\"html.parser\")\n",
    "        page_table = soup.find(id = \"mobile_table_pills\").find(\"div\", attrs={\"data-screener-tab\": field})\n",
    "        page_df = pd.read_html(str(page_table))[0].iloc[:-1,:]\n",
    "\n",
    "        # store current page df with field data\n",
    "        field_data = pd.concat([field_data, page_df], ignore_index=True)\n",
    "\n",
    "        # quit browser\n",
    "        \n",
    "\n",
    "    data[field] = field_data.to_dict(orient=\"list\")\n",
    "    browser.quit()\n",
    "\n"
   ]
  },
  {
   "cell_type": "code",
   "execution_count": 39,
   "id": "bd9572bb",
   "metadata": {},
   "outputs": [],
   "source": [
    "# with open(\"Data/ETFdata_etfdb_raw.json\", \"w\") as outfile:\n",
    "#     # writing to json file\n",
    "#     json.dump(data, outfile)"
   ]
  },
  {
   "cell_type": "code",
   "execution_count": 46,
   "id": "e7dc07f0",
   "metadata": {},
   "outputs": [
    {
     "name": "stdout",
     "output_type": "stream",
     "text": [
      "overview:\n",
      " n=2995\t n_unique = 2994\n",
      "returns:\n",
      " n=2995\t n_unique = 2994\n",
      "expenses:\n",
      " n=2995\t n_unique = 2994\n",
      "esg:\n",
      " n=2995\t n_unique = 2994\n",
      "dividends:\n",
      " n=2995\t n_unique = 2994\n",
      "risk:\n",
      " n=2995\t n_unique = 2994\n",
      "holdings:\n",
      " n=2995\t n_unique = 2994\n",
      "realtime-ratings:\n",
      " n=2995\t n_unique = 2994\n"
     ]
    }
   ],
   "source": [
    "for field, item in data.items():\n",
    "    print(f\"{field}:\\n n={len(item.get('Symbol'))}\\t n_unique = {len(np.unique(item.get('Symbol')))}\")"
   ]
  },
  {
   "cell_type": "code",
   "execution_count": null,
   "id": "2f04e062",
   "metadata": {},
   "outputs": [],
   "source": []
  }
 ],
 "metadata": {
  "kernelspec": {
   "display_name": "Python 3 (ipykernel)",
   "language": "python",
   "name": "python3"
  },
  "language_info": {
   "codemirror_mode": {
    "name": "ipython",
    "version": 3
   },
   "file_extension": ".py",
   "mimetype": "text/x-python",
   "name": "python",
   "nbconvert_exporter": "python",
   "pygments_lexer": "ipython3",
   "version": "3.10.8"
  },
  "toc": {
   "base_numbering": 1,
   "nav_menu": {},
   "number_sections": true,
   "sideBar": true,
   "skip_h1_title": false,
   "title_cell": "Table of Contents",
   "title_sidebar": "Contents",
   "toc_cell": false,
   "toc_position": {},
   "toc_section_display": true,
   "toc_window_display": false
  },
  "varInspector": {
   "cols": {
    "lenName": 16,
    "lenType": 16,
    "lenVar": 40
   },
   "kernels_config": {
    "python": {
     "delete_cmd_postfix": "",
     "delete_cmd_prefix": "del ",
     "library": "var_list.py",
     "varRefreshCmd": "print(var_dic_list())"
    },
    "r": {
     "delete_cmd_postfix": ") ",
     "delete_cmd_prefix": "rm(",
     "library": "var_list.r",
     "varRefreshCmd": "cat(var_dic_list()) "
    }
   },
   "types_to_exclude": [
    "module",
    "function",
    "builtin_function_or_method",
    "instance",
    "_Feature"
   ],
   "window_display": false
  }
 },
 "nbformat": 4,
 "nbformat_minor": 5
}
