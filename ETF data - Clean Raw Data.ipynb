{
 "cells": [
  {
   "cell_type": "code",
   "execution_count": 1,
   "id": "5a9ed69c",
   "metadata": {},
   "outputs": [],
   "source": [
    "# Import libraries\n",
    "import requests\n",
    "from bs4 import BeautifulSoup\n",
    "\n",
    "import pandas as pd\n",
    "import numpy as np\n",
    "\n",
    "from tqdm import tqdm\n",
    "import time\n",
    "import json\n",
    "\n",
    "# multiple output from cells\n",
    "from IPython.core.interactiveshell import InteractiveShell\n",
    "InteractiveShell.ast_node_interactivity = \"all\""
   ]
  },
  {
   "cell_type": "code",
   "execution_count": 12,
   "id": "e226ba74",
   "metadata": {},
   "outputs": [],
   "source": [
    "with open(\"Data/ETFdata_etfdb_raw.json\", \"r\") as openfile:\n",
    "    # Reading from json file\n",
    "    data = json.load(openfile)\n",
    "\n",
    "field_dfs = {field:pd.DataFrame(info) for field,info in data.items()}"
   ]
  },
  {
   "cell_type": "code",
   "execution_count": 13,
   "id": "6d7848e5",
   "metadata": {},
   "outputs": [
    {
     "data": {
      "text/html": [
       "<div>\n",
       "<style scoped>\n",
       "    .dataframe tbody tr th:only-of-type {\n",
       "        vertical-align: middle;\n",
       "    }\n",
       "\n",
       "    .dataframe tbody tr th {\n",
       "        vertical-align: top;\n",
       "    }\n",
       "\n",
       "    .dataframe thead th {\n",
       "        text-align: right;\n",
       "    }\n",
       "</style>\n",
       "<table border=\"1\" class=\"dataframe\">\n",
       "  <thead>\n",
       "    <tr style=\"text-align: right;\">\n",
       "      <th></th>\n",
       "      <th>Symbol</th>\n",
       "      <th>ETF Name</th>\n",
       "      <th>Asset Class New</th>\n",
       "      <th>Total Assets ($MM)</th>\n",
       "      <th>YTD Price Change</th>\n",
       "      <th>Avg. Daily Share Volume (3mo)</th>\n",
       "      <th>Previous Closing Price</th>\n",
       "      <th>ETF Database Pro</th>\n",
       "    </tr>\n",
       "  </thead>\n",
       "  <tbody>\n",
       "    <tr>\n",
       "      <th>2406</th>\n",
       "      <td>JHPI</td>\n",
       "      <td>John Hancock Preferred Income ETF</td>\n",
       "      <td>Bond</td>\n",
       "      <td>$14</td>\n",
       "      <td>-9.38%</td>\n",
       "      <td>8765</td>\n",
       "      <td>$22.01</td>\n",
       "      <td>NaN</td>\n",
       "    </tr>\n",
       "    <tr>\n",
       "      <th>2407</th>\n",
       "      <td>JHPI</td>\n",
       "      <td>John Hancock Preferred Income ETF</td>\n",
       "      <td>Preferred Stock</td>\n",
       "      <td>$14</td>\n",
       "      <td>-9.38%</td>\n",
       "      <td>8765</td>\n",
       "      <td>$22.01</td>\n",
       "      <td>NaN</td>\n",
       "    </tr>\n",
       "  </tbody>\n",
       "</table>\n",
       "</div>"
      ],
      "text/plain": [
       "     Symbol                           ETF Name  Asset Class New  \\\n",
       "2406   JHPI  John Hancock Preferred Income ETF             Bond   \n",
       "2407   JHPI  John Hancock Preferred Income ETF  Preferred Stock   \n",
       "\n",
       "     Total Assets ($MM) YTD Price Change Avg. Daily Share Volume (3mo)  \\\n",
       "2406                $14           -9.38%                          8765   \n",
       "2407                $14           -9.38%                          8765   \n",
       "\n",
       "     Previous Closing Price  ETF Database Pro  \n",
       "2406                 $22.01               NaN  \n",
       "2407                 $22.01               NaN  "
      ]
     },
     "execution_count": 13,
     "metadata": {},
     "output_type": "execute_result"
    }
   ],
   "source": [
    "# check for dublicates\n",
    "field_dfs[\"overview\"][field_dfs[\"overview\"].duplicated(subset = [\"Symbol\"], keep = False)]"
   ]
  },
  {
   "cell_type": "code",
   "execution_count": 14,
   "id": "32a7eb9d",
   "metadata": {},
   "outputs": [],
   "source": [
    "# drop dublicates (keep last)\n",
    "for field, df in field_dfs.items():\n",
    "    field_dfs[field] = df.drop_duplicates(subset=[\"Symbol\"], keep=\"last\").reset_index(drop = True)# .set_index(\"Symbol\")"
   ]
  },
  {
   "cell_type": "code",
   "execution_count": 15,
   "id": "358a52ce",
   "metadata": {},
   "outputs": [],
   "source": [
    "# # look at all dfs\n",
    "# for field, df in field_dfs.items():\n",
    "#     df.head()\n",
    "#     print(f\"df field: {field}\")"
   ]
  },
  {
   "cell_type": "code",
   "execution_count": 16,
   "id": "0431c040",
   "metadata": {
    "scrolled": true
   },
   "outputs": [],
   "source": [
    "# # get columns for all fields\n",
    "# for field, df in field_dfs.items():\n",
    "#     print(f\"'{field}':[\")\n",
    "#     for col in df.columns:\n",
    "#         print(f\"\\t'{col}',\")\n",
    "#     print(f\"],\")"
   ]
  },
  {
   "cell_type": "code",
   "execution_count": 17,
   "id": "ab691764",
   "metadata": {},
   "outputs": [],
   "source": [
    "columns_toget ={\n",
    "    'overview':[\n",
    "        'Symbol',\n",
    "        'ETF Name',\n",
    "        'Asset Class New',\n",
    "        'Total Assets ($MM)',\n",
    "#         'YTD Price Change',\n",
    "        'Avg. Daily Share Volume (3mo)',\n",
    "#         'Previous Closing Price',\n",
    "#         'ETF Database Pro',\n",
    "    ],\n",
    "    'returns':[\n",
    "        'Symbol',\n",
    "#         'ETF Name',\n",
    "#         '1 Week',\n",
    "#         '1 Month',\n",
    "#         'YTD',\n",
    "#         '1 Year',\n",
    "#         '3 Year',\n",
    "#         '5 Year',\n",
    "#         'Returns Rating',\n",
    "    ],\n",
    "    'expenses':[\n",
    "        'Symbol',\n",
    "#         'ETF Name',\n",
    "#         'Asset Class New',\n",
    "#         'Total Assets ($MM)',\n",
    "        'Expense Ratio',\n",
    "#         'ETF Database Pro',\n",
    "    ],\n",
    "    'esg':[\n",
    "        'Symbol',\n",
    "#         'ETF Name',\n",
    "        'ESG Score',\n",
    "        'ESG Score Peer Percentile (%)',\n",
    "        'ESG Score Global Percentile (%)',\n",
    "#         'Carbon Intensity (Tons of CO2e / $M Sales)',\n",
    "#         'SRI Exclusion Criteria (%)',\n",
    "#         'Sustainable Impact Solutions (%)',\n",
    "    ],\n",
    "    'dividends':[\n",
    "        'Symbol',\n",
    "#         'ETF Name',\n",
    "#         'Annual Dividend Rate',\n",
    "#         'Dividend Date',\n",
    "#         'Dividend Frequency New',\n",
    "#         'Annual Dividend Yield',\n",
    "#         'Dividend Rating',\n",
    "    ],\n",
    "    'risk':[\n",
    "        'Symbol',\n",
    "#         'ETF Name',\n",
    "#         'Standard Deviation',\n",
    "        'P/E Ratio',\n",
    "        'Beta',\n",
    "#         '5-Day Volatility',\n",
    "#         '20-Day Volatility',\n",
    "#         '50-Day Volatility',\n",
    "#         '200-Day Volatility',\n",
    "    ],\n",
    "    'holdings':[\n",
    "        'Symbol',\n",
    "#         'ETF Name',\n",
    "        'Issuer New',\n",
    "        '# of Holdings',\n",
    "        '% In Top 10',\n",
    "#         '% In Top 15 New',\n",
    "#         '% In Top 50 New',\n",
    "#         'Complete',\n",
    "#         'Concentration Rating',\n",
    "    ],\n",
    "    'realtime-ratings':[\n",
    "        'Symbol',\n",
    "#         'ETF Name',\n",
    "        'Liquidity',\n",
    "        'Expenses',\n",
    "#         'Returns',\n",
    "#         'Volatility',\n",
    "#         'Overall',\n",
    "#         'Dividend',\n",
    "#         'Concentration',\n",
    "    ],\n",
    "}"
   ]
  },
  {
   "cell_type": "code",
   "execution_count": 18,
   "id": "bfdbcb6f",
   "metadata": {},
   "outputs": [],
   "source": [
    "# filter dfs by columns to use and merge to one\n",
    "init = True\n",
    "for field, df in field_dfs.items():\n",
    "    if init:\n",
    "        df_allfields = df[columns_toget[field]]\n",
    "#         df_allfields.head()\n",
    "        init = False\n",
    "    else:\n",
    "        df_allfields = df_allfields.merge(df[columns_toget[field]], on = \"Symbol\", how='left')\n",
    "#         df_allfields.head()"
   ]
  },
  {
   "cell_type": "code",
   "execution_count": 19,
   "id": "30cf8751",
   "metadata": {},
   "outputs": [],
   "source": [
    "# df_allfields.info()\n",
    "# df_allfields.iloc[0,:]"
   ]
  },
  {
   "cell_type": "code",
   "execution_count": 20,
   "id": "5be9db45",
   "metadata": {},
   "outputs": [],
   "source": [
    "# print(\"fix_colnames = [\")\n",
    "# for col in df_allfields.columns:\n",
    "#     print(f\"\\t'{col}',\")\n",
    "# print(\"]\")"
   ]
  },
  {
   "cell_type": "code",
   "execution_count": 21,
   "id": "9b5c1002",
   "metadata": {},
   "outputs": [],
   "source": [
    "# helper funcions\n",
    "def percent2float(p):\n",
    "    return float(str(p).strip('%'))/100  \n",
    "\n",
    "def dollar2float(d):\n",
    "    return float(str(d).strip('$').replace(\",\", \"\"))\n",
    "\n",
    "\n",
    "# cols to fix\n",
    "percent_cols = [\n",
    "    \"Expense Ratio\",\n",
    "    \"ESG Score Peer Percentile (%)\",\n",
    "    \"ESG Score Global Percentile (%)\",\n",
    "    \"% In Top 10\", \n",
    "]\n",
    "\n",
    "dollar_cols = [\n",
    "    \"Total Assets ($MM)\",\n",
    "]\n",
    "\n",
    "float_cols = [\n",
    "    \"Avg. Daily Share Volume (3mo)\", \n",
    "    \"ESG Score\",\n",
    "    \"P/E Ratio\",                      \n",
    "    \"Beta\",                                             \n",
    "]\n",
    "\n",
    "int_cols = [\n",
    "    \"# of Holdings\",\n",
    "]\n",
    "\n",
    "# fix col values\n",
    "df_allfields[percent_cols] = df_allfields[percent_cols].apply(lambda x: [percent2float(val) for val in x])\n",
    "df_allfields[dollar_cols] = df_allfields[dollar_cols].apply(lambda x: [dollar2float(val) for val in x])\n",
    "df_allfields[float_cols] = df_allfields[float_cols].apply(lambda x: x.astype(float))\n",
    "df_allfields[int_cols] = df_allfields[int_cols].apply(lambda x: x.astype(float))\n",
    "\n",
    "# new col names\n",
    "colnames_fix = [\n",
    "    'Symbol',\n",
    "    'ETF Name',\n",
    "    'Asset Class',\n",
    "    'Total Assets ($MM)',\n",
    "    'Avg. Daily Share Volume (3mo)',\n",
    "    'Expense Ratio',\n",
    "    'ESG Score',\n",
    "    'ESG Score Peer Percentile',\n",
    "    'ESG Score Global Percentile',\n",
    "    'P/E Ratio',\n",
    "    'Beta',\n",
    "    'Issuer',\n",
    "    '# of Holdings',\n",
    "    '% In Top 10',\n",
    "    'Liquidity',\n",
    "    'Expenses',\n",
    "]\n",
    "\n",
    "# fix col names\n",
    "df_allfields.columns = colnames_fix"
   ]
  },
  {
   "cell_type": "code",
   "execution_count": 22,
   "id": "3d0dc2e3",
   "metadata": {},
   "outputs": [
    {
     "name": "stdout",
     "output_type": "stream",
     "text": [
      "<class 'pandas.core.frame.DataFrame'>\n",
      "Int64Index: 2994 entries, 0 to 2993\n",
      "Data columns (total 16 columns):\n",
      " #   Column                         Non-Null Count  Dtype  \n",
      "---  ------                         --------------  -----  \n",
      " 0   Symbol                         2994 non-null   object \n",
      " 1   ETF Name                       2994 non-null   object \n",
      " 2   Asset Class                    2994 non-null   object \n",
      " 3   Total Assets ($MM)             2986 non-null   float64\n",
      " 4   Avg. Daily Share Volume (3mo)  2878 non-null   float64\n",
      " 5   Expense Ratio                  2994 non-null   float64\n",
      " 6   ESG Score                      2233 non-null   float64\n",
      " 7   ESG Score Peer Percentile      2233 non-null   float64\n",
      " 8   ESG Score Global Percentile    2233 non-null   float64\n",
      " 9   P/E Ratio                      1539 non-null   float64\n",
      " 10  Beta                           2436 non-null   float64\n",
      " 11  Issuer                         2994 non-null   object \n",
      " 12  # of Holdings                  2975 non-null   float64\n",
      " 13  % In Top 10                    2951 non-null   float64\n",
      " 14  Liquidity                      2683 non-null   object \n",
      " 15  Expenses                       2954 non-null   object \n",
      "dtypes: float64(10), object(6)\n",
      "memory usage: 397.6+ KB\n"
     ]
    }
   ],
   "source": [
    "df_allfields.info()"
   ]
  },
  {
   "cell_type": "code",
   "execution_count": 23,
   "id": "38b2ef0c",
   "metadata": {},
   "outputs": [],
   "source": [
    "# field_dicts = {}\n",
    "\n",
    "# for field, df in field_dfs.items():\n",
    "#     field_dict = df.to_dict(orient=\"index\")\n",
    "#     field_dicts.update({field:field_dict})\n",
    "\n",
    "# etf_dict = {etf:{} for etf in list(field_dicts.values())[0].keys()}\n",
    "\n",
    "# for field, fdict in field_dicts.items():\n",
    "#     for etf, info in fdict.items():\n",
    "#         etf_dict[etf].update(info)\n",
    "\n",
    "# list(etf_dict.get(\"SPY\").keys())"
   ]
  },
  {
   "cell_type": "code",
   "execution_count": 24,
   "id": "ae786034",
   "metadata": {},
   "outputs": [],
   "source": [
    "# crate dict where symbols are keys\n",
    "dict_allfields = df_allfields.set_index(\"Symbol\").to_dict(orient=\"index\")"
   ]
  },
  {
   "cell_type": "code",
   "execution_count": 25,
   "id": "3eae680c",
   "metadata": {},
   "outputs": [],
   "source": [
    "# write out to files\n",
    "\n",
    "with open(\"Data/ETFdata_etfdb_clean.json\", \"w\") as outfile:\n",
    "    # Write to json file\n",
    "    json.dump(dict_allfields, outfile)\n",
    "    \n",
    "df_allfields.to_csv(\"Data/ETFdata_etfdb_clean.csv\", index=False)\n"
   ]
  },
  {
   "cell_type": "code",
   "execution_count": null,
   "id": "e4fcfaa8",
   "metadata": {},
   "outputs": [],
   "source": []
  }
 ],
 "metadata": {
  "kernelspec": {
   "display_name": "Python 3 (ipykernel)",
   "language": "python",
   "name": "python3"
  },
  "language_info": {
   "codemirror_mode": {
    "name": "ipython",
    "version": 3
   },
   "file_extension": ".py",
   "mimetype": "text/x-python",
   "name": "python",
   "nbconvert_exporter": "python",
   "pygments_lexer": "ipython3",
   "version": "3.10.8"
  },
  "toc": {
   "base_numbering": 1,
   "nav_menu": {},
   "number_sections": true,
   "sideBar": true,
   "skip_h1_title": false,
   "title_cell": "Table of Contents",
   "title_sidebar": "Contents",
   "toc_cell": false,
   "toc_position": {},
   "toc_section_display": true,
   "toc_window_display": false
  },
  "varInspector": {
   "cols": {
    "lenName": 16,
    "lenType": 16,
    "lenVar": 40
   },
   "kernels_config": {
    "python": {
     "delete_cmd_postfix": "",
     "delete_cmd_prefix": "del ",
     "library": "var_list.py",
     "varRefreshCmd": "print(var_dic_list())"
    },
    "r": {
     "delete_cmd_postfix": ") ",
     "delete_cmd_prefix": "rm(",
     "library": "var_list.r",
     "varRefreshCmd": "cat(var_dic_list()) "
    }
   },
   "types_to_exclude": [
    "module",
    "function",
    "builtin_function_or_method",
    "instance",
    "_Feature"
   ],
   "window_display": false
  }
 },
 "nbformat": 4,
 "nbformat_minor": 5
}
